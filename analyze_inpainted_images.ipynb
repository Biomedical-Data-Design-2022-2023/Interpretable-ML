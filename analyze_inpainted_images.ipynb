{
 "cells": [
  {
   "cell_type": "code",
   "execution_count": 10,
   "id": "7114da39",
   "metadata": {},
   "outputs": [],
   "source": [
    "import os\n",
    "import torch\n",
    "import numpy as np\n",
    "import pandas as pd\n",
    "import torch.nn as nn\n",
    "import matplotlib.pyplot as plt\n",
    "import matplotlib.patches as patches\n",
    "# import hshap\n",
    "from torchvision import transforms\n",
    "from PIL import Image\n",
    "from tqdm import tqdm\n",
    "from itertools import combinations \n",
    "# select device\n",
    "os.environ[\"CUDA_VISIBLE_DEVICES\"] = \"0\"\n",
    "device = torch.device(\"cuda:0\" if torch.cuda.is_available() else \"cpu\")\n"
   ]
  },
  {
   "cell_type": "code",
   "execution_count": 11,
   "id": "023c1e67",
   "metadata": {},
   "outputs": [
    {
     "name": "stderr",
     "output_type": "stream",
     "text": [
      "Using cache found in /Users/ishankalburge/.cache/torch/hub/pytorch_vision_v0.10.0\n"
     ]
    }
   ],
   "source": [
    "model_directory = 'h-shap-main/demo/BBBC041/'\n",
    "filename = model_directory + 'model.pt'\n",
    "model = torch.hub.load(\"pytorch/vision:v0.10.0\", \"resnet18\", pretrained=False)\n",
    "num_ftrs = model.fc.in_features\n",
    "model.fc = nn.Linear(num_ftrs, 2)\n",
    "model.load_state_dict(torch.load(filename, map_location=device))\n",
    "model = model.to(device)\n",
    "model.eval()\n",
    "torch.cuda.empty_cache()\n",
    "model = nn.Sequential(\n",
    "    model,\n",
    "    nn.Softmax(dim=1),\n",
    ")"
   ]
  },
  {
   "cell_type": "code",
   "execution_count": 12,
   "id": "0210162a",
   "metadata": {},
   "outputs": [],
   "source": [
    "image_path = '/Users/ishankalburge/Documents/JOHNS-HOPKINS/3_1FA22/biomedical-data-design/generative-inpainting-pytorch/test_image.png'\n",
    "image = Image.open(image_path)\n",
    "mean = torch.tensor([0.485, 0.456, 0.406])\n",
    "std = torch.tensor([0.229, 0.224, 0.225])\n",
    "transform = transforms.Compose(\n",
    "    [transforms.ToTensor(), transforms.Normalize(mean=mean, std=std)]\n",
    ")\n",
    "image_t = transform(image).to(device)\n",
    "prep_img = torch.unsqueeze(image_t, 0)"
   ]
  },
  {
   "cell_type": "code",
   "execution_count": 13,
   "id": "86d852fd",
   "metadata": {},
   "outputs": [
    {
     "data": {
      "text/plain": [
       "(1, 0.9542775)"
      ]
     },
     "execution_count": 13,
     "metadata": {},
     "output_type": "execute_result"
    }
   ],
   "source": [
    "prob_scores = model(prep_img).detach().numpy()[0]\n",
    "cl, baseline_v = np.argmax(prob_scores), prob_scores[np.argmax(prob_scores)]\n",
    "(cl,baseline_v)"
   ]
  },
  {
   "cell_type": "code",
   "execution_count": 14,
   "id": "3616e2be",
   "metadata": {},
   "outputs": [
    {
     "name": "stdout",
     "output_type": "stream",
     "text": [
      "124\n",
      "0.5461519\n",
      "134\n",
      "0.00012778222\n",
      "123\n",
      "0.02953154\n",
      "3\n",
      "0.60529083\n",
      "1234\n",
      "0.1125377\n",
      "2\n",
      "0.9991227\n",
      "12\n",
      "0.40260196\n",
      "13\n",
      "0.0044785477\n",
      "1\n",
      "0.79251206\n",
      "4\n",
      "0.9561983\n",
      "234\n",
      "0.3745919\n",
      "14\n",
      "0.6737065\n",
      "24\n",
      "0.9886014\n",
      "23\n",
      "0.9542656\n",
      "34\n",
      "0.0277682\n"
     ]
    }
   ],
   "source": [
    "directory = 'generative-inpainting-pytorch/output_shap'\n",
    "mean = torch.tensor([0.485, 0.456, 0.406])\n",
    "std = torch.tensor([0.229, 0.224, 0.225])\n",
    "transform = transforms.Compose(\n",
    "    [transforms.ToTensor(), transforms.Normalize(mean=mean, std=std)]\n",
    ")\n",
    "playerList = []\n",
    "classList = []\n",
    "probList = []\n",
    "for filename in os.listdir(directory):\n",
    "        f = os.path.join(directory, filename)\n",
    "        # checking if it is a file\n",
    "        if os.path.isfile(f) and f[-4:] == '.png':\n",
    "            ext = filename[6:-4]\n",
    "            players = list(ext)\n",
    "            players = [int(i) for i in players]\n",
    "            playerList.append(players)\n",
    "            print(filename[6:-4])\n",
    "            image = Image.open(f)\n",
    "            image_t = transform(image).to(device)\n",
    "            prep_img = torch.unsqueeze(image_t, 0)\n",
    "            prob_scores = model(prep_img).detach().numpy()[0][cl]\n",
    "#             c, p = np.argmax(prob_scores), prob_scores[np.argmax(prob_scores)]\n",
    "#             classList.append(c)\n",
    "            p = prob_scores\n",
    "            probList.append(p)\n",
    "            print(p)"
   ]
  },
  {
   "cell_type": "code",
   "execution_count": 15,
   "id": "f2de88b1",
   "metadata": {},
   "outputs": [
    {
     "data": {
      "text/plain": [
       "[[1, 2, 4],\n",
       " [1, 3, 4],\n",
       " [1, 2, 3],\n",
       " [3],\n",
       " [1, 2, 3, 4],\n",
       " [2],\n",
       " [1, 2],\n",
       " [1, 3],\n",
       " [1],\n",
       " [4],\n",
       " [2, 3, 4],\n",
       " [1, 4],\n",
       " [2, 4],\n",
       " [2, 3],\n",
       " [3, 4]]"
      ]
     },
     "execution_count": 15,
     "metadata": {},
     "output_type": "execute_result"
    }
   ],
   "source": [
    "playerList"
   ]
  },
  {
   "cell_type": "code",
   "execution_count": 7,
   "id": "02ea63de",
   "metadata": {},
   "outputs": [],
   "source": [
    "from math import comb"
   ]
  },
  {
   "cell_type": "code",
   "execution_count": 17,
   "id": "c9808629",
   "metadata": {},
   "outputs": [
    {
     "name": "stdout",
     "output_type": "stream",
     "text": [
      "0\n",
      "(1,)\n",
      "(2,)\n",
      "(3,)\n",
      "(4,)\n",
      "1\n",
      "(1, 2)\n",
      "(1, 3)\n",
      "(1, 4)\n",
      "(2, 3)\n",
      "(2, 4)\n",
      "(3, 4)\n",
      "2\n",
      "(1, 2, 3)\n",
      "(1, 2, 4)\n",
      "(1, 3, 4)\n",
      "(2, 3, 4)\n",
      "3\n",
      "(1, 2, 3, 4)\n"
     ]
    },
    {
     "data": {
      "text/plain": [
       "True"
      ]
     },
     "execution_count": 17,
     "metadata": {},
     "output_type": "execute_result"
    }
   ],
   "source": [
    "N = [1,2,3,4]\n",
    "def shapley(N, j, base, v, players):\n",
    "    shap = 0\n",
    "    card = len(N)\n",
    "    for S in range(card):\n",
    "        print(S)\n",
    "        w  = comb(card, S)**(-1)\n",
    "        sets = list(combinations(N, S+1))\n",
    "        for s in sets:\n",
    "            print(s)\n",
    "            \n",
    "shapley(N,1,1,1,1)\n",
    "t = (1,2,3)\n",
    "3 in t"
   ]
  },
  {
   "cell_type": "code",
   "execution_count": 103,
   "id": "30238b33",
   "metadata": {},
   "outputs": [
    {
     "data": {
      "text/plain": [
       "[1, 2, 3]"
      ]
     },
     "execution_count": 103,
     "metadata": {},
     "output_type": "execute_result"
    }
   ],
   "source": [
    "s = '123'\n",
    "l = list(s)\n",
    "l = [int(i) for i in l]\n",
    "l"
   ]
  },
  {
   "cell_type": "code",
   "execution_count": null,
   "id": "a9e7334f",
   "metadata": {},
   "outputs": [],
   "source": []
  }
 ],
 "metadata": {
  "kernelspec": {
   "display_name": "Python 3",
   "language": "python",
   "name": "python3"
  },
  "language_info": {
   "codemirror_mode": {
    "name": "ipython",
    "version": 3
   },
   "file_extension": ".py",
   "mimetype": "text/x-python",
   "name": "python",
   "nbconvert_exporter": "python",
   "pygments_lexer": "ipython3",
   "version": "3.8.8"
  }
 },
 "nbformat": 4,
 "nbformat_minor": 5
}
